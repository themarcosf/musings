{
 "cells": [
  {
   "cell_type": "markdown",
   "metadata": {},
   "source": [
    "# A Framework for Active Learning in Artificial Neural Networks"
   ]
  },
  {
   "cell_type": "markdown",
   "metadata": {},
   "source": [
    "What is this paper could be patented?"
   ]
  },
  {
   "cell_type": "markdown",
   "metadata": {},
   "source": [
    "Keywords: Infrastructure Engineering, Machine Learning, Artificial Intelligence"
   ]
  },
  {
   "cell_type": "markdown",
   "metadata": {},
   "source": [
    "The correctness spectrum.\n",
    "\n",
    "AI gets things wrong, it hallucinates. How to measure correctness?\n",
    "\n",
    "The self-driving car industry has spent the most time working on this *correctness* problem and frameworks to solve it for complex models and systems. This is commonly referred to as your operational design domain (ODD). By bounding the ODD of your AI, it becomes much easier to test and validate the correctness of your pipeline.\n",
    "\n",
    "Dilemma known unknowns and unknown unknowns.\n",
    "\n",
    "If you can define all of your “knowns” and build guardrails to prevent any “unknown unknowns” then you can achieve high bars of correctness for specific use cases.\n",
    "\n",
    "Pipeline\n",
    "1. Prompt engineering and pre-processing data with custom embeddings\n",
    "2. Post-processing results to enforce ODD\n",
    "3. Fine-tuning a foundational model\n",
    "4. Infrastructure to support end to end validation\n",
    "\n",
    "Source: https://www.nfx.com/post/ai-startup-litmus-test"
   ]
  },
  {
   "cell_type": "markdown",
   "metadata": {},
   "source": [
    "5-Layer Generative AI Tech Stack\n",
    "\n",
    "1. General AI models\n",
    "2. Specific AI models: trained on narrow data to outperform general models in specific use cases.\n",
    "3. Hyperlocal AI models: trained on local, proprietary data.\n",
    "  source provides arguments on how it is more impactful to focus on hyperlocal models than general or specific models.\n",
    "4. Generative OS or API layer: helps the app to access all the AI models required to solve a problem.\n",
    "5. Applications layer: should have powerful network effects and embedding characteristics.\n",
    "\n",
    "1-3 are easily commoditized. 4 and 5 are the most defensible.\n",
    "\n",
    "Active learning as a way to gain product speed. Launch the feature first, let the model learn over time.\n",
    "\n",
    "Source: https://www.nfx.com/post/generative-ai-tech-5-layers#The-5--Layer-Generative-Tech-Stack"
   ]
  }
 ],
 "metadata": {
  "kernelspec": {
   "display_name": "Python 3",
   "language": "python",
   "name": "python3"
  },
  "language_info": {
   "name": "python",
   "version": "3.9.6"
  }
 },
 "nbformat": 4,
 "nbformat_minor": 2
}
